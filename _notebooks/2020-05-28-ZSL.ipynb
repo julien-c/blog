{
  "nbformat": 4,
  "nbformat_minor": 0,
  "metadata": {
    "colab": {
      "name": "ZSL Blog Post.ipynb",
      "provenance": [],
      "collapsed_sections": []
    },
    "kernelspec": {
      "name": "python3",
      "display_name": "Python 3"
    }
  },
  "cells": [
    {
      "cell_type": "markdown",
      "metadata": {
        "id": "CoMVvIRtMXmY",
        "colab_type": "text"
      },
      "source": [
        "# Modern NLP with Little to No Annotated Data\n",
        "\n",
        "- comments: true\n",
        "\n"
      ]
    },
    {
      "cell_type": "markdown",
      "metadata": {
        "id": "aILhOF60WcIm",
        "colab_type": "text"
      },
      "source": [
        "Natural language processing is a task-rich area and enumerating every type of low-resource learning technique for all likely tasks of interest is impractical. Instead, I will focus primarily on sequence classification but describe techniques applicable to a wide variety of data (in)availability situations. My hope is that these methods will be useful for some and, for most, will inspire creativity in leveraging pre-trained models in low-resource settings."
      ]
    },
    {
      "cell_type": "markdown",
      "metadata": {
        "id": "IFvlAcOHQOfg",
        "colab_type": "text"
      },
      "source": [
        "Settings (focus on classification):\n",
        "- No annotated data is available\n",
        "    - NLI Model\n",
        "    - SBERT2Wordvec\n",
        "- Data is available for some labels, but missing for others\n",
        "    - NLI Model\n",
        "    - Align SBERT2Wordvec\n",
        "- No annotated data is available, but lots of non-annotated\n",
        "    - Semi-supervised... be careful not to scoop your own research here\n",
        "- Some annotated data is available, but not enough to learn a good classifier\n",
        "    - Few shot, sample efficiency\n",
        "- Data is available, but not in the language I want\n",
        "    - Cross lingual alignment techniques, link to seb ruder's post"
      ]
    },
    {
      "cell_type": "markdown",
      "metadata": {
        "id": "aLWIVE-ZP3DQ",
        "colab_type": "text"
      },
      "source": [
        "## Setting: No Training Data is Available"
      ]
    },
    {
      "cell_type": "markdown",
      "metadata": {
        "id": "QhuEYWRJT3Yq",
        "colab_type": "text"
      },
      "source": [
        "#### Background: Natural Language Inference (NLI)\n",
        "\n",
        "Several of the methods described below use Natural Language Inference as pre-training step, so here is a quick review. NLI considers two sentences: a \"premise\" and a \"hypothesis\". The task is to determine whether the hypothesis is true (entailment) or false (contradiction) given the premise.\n",
        "\n",
        "![example NLI sentences](https://i.ibb.co/gWCjvdP/Screen-Shot-2020-05-26-at-5-10-07-PM.png \"Examples from http://nlpprogress.com/english/natural_language_inference.html\")\n",
        "\n",
        "When using transformer architectures like BERT, NLI datasets are typically modeled via _sequence-pair classification_. That is, we feed both the premise and the hypothesis through the model together as distinct segments and learn a classification head predicting one of `[contradiction, neutral, entailment]`."
      ]
    },
    {
      "cell_type": "markdown",
      "metadata": {
        "id": "AB9T-krfQ9Ip",
        "colab_type": "text"
      },
      "source": [
        "### A ready-made zero-shot classifier\n",
        "\n",
        "Recently, [Yin et al. (2019)](https://arxiv.org/abs/1909.00161) proposed a method which uses a pre-trained MNLI sequence-pair classifier as an out-of-the-box zero-shot text classifier that actually works pretty well.\n",
        "\n",
        "The idea is to take the sequence we're interested in labeling as the \"premise\" and to turn each candidate label into a \"hypothesis.\" If the model says that the premise \"entails\" the hypothesis, we take the label to be true. This gives us a ready-made compatibility function that works reasonably well on certain tasks without any task-specific training. See the code snippet below to see how easily this can be done with 🤗 Transformers."
      ]
    },
    {
      "cell_type": "code",
      "metadata": {
        "id": "La_ga8KvSFYd",
        "colab_type": "code",
        "outputId": "274cdb48-a518-4cee-c031-e27947e9a7ed",
        "colab": {
          "base_uri": "https://localhost:8080/",
          "height": 35
        }
      },
      "source": [
        "#collapse-show\n",
        "# load model pretrained on MNLI\n",
        "from transformers import BartForSequenceClassification, BartTokenizer\n",
        "tokenizer = BartTokenizer.from_pretrained('bart-large-mnli')\n",
        "model = BartForSequenceClassification.from_pretrained('bart-large-mnli')\n",
        "\n",
        "# pose sequence as a NLI premise and label (politics) as a hypothesis\n",
        "premise = 'Who are you voting for in 2020?'\n",
        "hypothesis = 'This text is about politics.'\n",
        "\n",
        "# run through model pre-trained on MNLI\n",
        "input_ids = tokenizer.encode(premise, hypothesis, return_tensors='pt')\n",
        "logits = model(input_ids)[0]\n",
        "\n",
        "# we throw away \"neutral\" (dim 1) and take the probability of\n",
        "# \"entailment\" (2) as the probability of the label being true \n",
        "entail_contradiction_logits = logits[:,[0,2]]\n",
        "probs = entail_contradiction_logits.softmax(dim=1)\n",
        "true_prob = probs[:,1].item() * 100\n",
        "print(f'Probability that the label is true: {true_prob:0.2f}%')"
      ],
      "execution_count": 0,
      "outputs": [
        {
          "output_type": "stream",
          "text": [
            "Probability that the label is true: 99.04%\n"
          ],
          "name": "stdout"
        }
      ]
    },
    {
      "cell_type": "markdown",
      "metadata": {
        "id": "jwXSg464flMJ",
        "colab_type": "text"
      },
      "source": [
        "In the paper, the authors report an F1 of $37.9$ on Yahoo Answers using the smallest version of BERT fine-tuned only on the Multi-genre NLI (MNLI) corpus. By simply using the larger and more recent Bart model pre-trained on MNLI, we were able to bring this number up to $53.7$. For context, Yahoo Answers has 10 classes and [supervised models](https://paperswithcode.com/sota/text-classification-on-yahoo-answers) get an accuracy of just over $70\\%$.\n",
        "\n",
        "Of course, this number can be improved when some data is available for training. In addition to the extreme fully unsupervised setting, the authors consider a setup which corresponds to the traditional _generalized zero-shot learning_ setting where only a subset of the dataset's labels are available during training. The model is then evaluated on all labels together, both seen and unseen, at test time.\n",
        "\n",
        "See [our live demo here](http://35.208.71.201:8000/) to try it out for yourself! Enter a sequence you want to classify and any labels of interest and watch Bart do its magic in real time.\n",
        "\n",
        "![live demo](https://i.ibb.co/WB6HsFk/Screen-Shot-2020-05-26-at-5-31-25-PM.png)"
      ]
    },
    {
      "cell_type": "markdown",
      "metadata": {
        "id": "WyB_iKjvZKHS",
        "colab_type": "text"
      },
      "source": [
        "### A Latent Embedding Approach\n",
        "\n",
        "A slightly less effective but more flexible approach is to embed both the sequence and the class names of interest into the same representation space and then simply select the label closest in latent space.\n",
        "\n",
        "This is a well-known technique in Zero Shot Learning in Computer Vision. Take the word vectors for each class and some latent representation for an image and project them to the same space. Learning this projection requires data for some labels, but allows you to generalize to unseen labels at test time.\n",
        "\n",
        "We found that in the text regime, we can follow the same procedure but without the need for any annotated data ahead of time. By simply using a single sentence representation model, we can embed both the sequences to classify and the candidate labels into the same latent space.\n",
        "\n",
        "$$\n",
        "\\hat{c} = \\arg\\max_{c \\in C} \\cos(\\Phi(x), \\Phi(c))\n",
        "$$\n",
        "\n",
        "where $\\Phi$ is a sentence-level embedding model, $x$ is a sequence, and $C$ is a set of class labels.\n",
        "\n",
        "Here's an example code snippet using the Sentence-BERT method:"
      ]
    },
    {
      "cell_type": "code",
      "metadata": {
        "id": "S6T6rRDBuKkh",
        "colab_type": "code",
        "outputId": "5b45d4da-f34a-4447-fb99-c19ddc45afdc",
        "colab": {
          "base_uri": "https://localhost:8080/",
          "height": 69
        }
      },
      "source": [
        "# load the sentence-bert model from the HuggingFace model hub\n",
        "from transformers import AutoTokenizer, AutoModel\n",
        "from torch.nn import functional as F\n",
        "tokenizer = AutoTokenizer.from_pretrained(\"deepset/sentence_bert\")\n",
        "model = AutoModel.from_pretrained(\"deepset/sentence_bert\")\n",
        "\n",
        "sentence = 'Who are you voting for in 2020?'\n",
        "labels = ['politics', 'business', 'art & culture']\n",
        "\n",
        "# run inputs through model and mean over the sequence dimension\n",
        "# to get sentence-level representations\n",
        "inputs = tokenizer.batch_encode_plus([sentence] + labels,\n",
        "                                     return_tensors='pt',\n",
        "                                     pad_to_max_length=True)\n",
        "input_ids = inputs['input_ids']\n",
        "attention_mask = inputs['attention_mask']\n",
        "output = model(input_ids, attention_mask=attention_mask)[0]\n",
        "sentence_rep = output[:1].mean(dim=1)\n",
        "label_reps = output[1:].mean(dim=1)\n",
        "\n",
        "# now find the labels with the highest cosine similarities to\n",
        "# the sentence\n",
        "similarities = F.cosine_similarity(sentence_rep, label_reps)\n",
        "closest = similarities.argsort(descending=True)\n",
        "for ind in closest:\n",
        "    print(f'label: {labels[ind]},\\t cos: {similarities[ind]:0.4f}')"
      ],
      "execution_count": 0,
      "outputs": [
        {
          "output_type": "stream",
          "text": [
            "label: politics,\t cos: 0.2156\n",
            "label: business,\t cos: 0.0045\n",
            "label: art & culture,\t cos: -0.0274\n"
          ],
          "name": "stdout"
        }
      ]
    },
    {
      "cell_type": "markdown",
      "metadata": {
        "id": "cR-X1GlDttZi",
        "colab_type": "text"
      },
      "source": [
        "One downside to this method is that Sentence-BERT is designed to learn sentence-level, not single- or multi-word representations like our class names. It is therefore reasonable to suppose that our label embeddings may not be as semantically salient as popular word-level embedding methods. But we can't use word vectors directly because then we would have to align our S-BERT sequence embeddings with the word vector label emebddings.\n",
        "\n",
        "We addressed this issue with the following procedure:\n",
        "\n",
        "1. Take the top $10,000$ most frequent words $V$ in skipgram's vocabulary\n",
        "2. Obtain embeddings for each word using skipgram $\\Phi_{\\text{word}}(V)$\n",
        "3. Obtain embeddings for each word using S-BERT $\\Phi_{\\text{sent}}(V)$\n",
        "4. Learn a linear projection $W$ with L2 regularization from $\\Phi_{\\text{sent}}(V)$ to $\\Phi_{\\text{word}}(V)$\n",
        "\n",
        "Now we apply $W$ as an additional transformation to our latent space for both sequence and label embeddings:\n",
        "\n",
        "$$\n",
        "\\hat{c} = \\arg\\max_{c \\in C} \\cos(\\Phi_{\\text{sent}}(x)W, \\Phi_{\\text{sent}}(c)W)\n",
        "$$\n",
        "\n"
      ]
    },
    {
      "cell_type": "markdown",
      "metadata": {
        "id": "a9KRVNU9r0XB",
        "colab_type": "text"
      },
      "source": [
        "## Setting: Low-Resource Languages"
      ]
    },
    {
      "cell_type": "markdown",
      "metadata": {
        "id": "YChK2nuVr28X",
        "colab_type": "text"
      },
      "source": [
        "Low-resource and cross-lingual learning is a huge research area in NLP right now and much has been written about it, so I'll just link a few great resources:\n",
        "\n",
        "- Graham Neubig's recently released [Low Resource NLP Bootcamp](https://github.com/neubig/lowresource-nlp-bootcamp-2020).\n",
        "\n",
        "> twitter: https://twitter.com/gneubig/status/1265644923153514496\n",
        "\n",
        "- Sebastian Ruder's blog post, [\"A survey of cross-lingual word embedding models\"](https://ruder.io/cross-lingual-embeddings/)\n",
        "\n"
      ]
    }
  ]
}