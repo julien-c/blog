{
  "nbformat": 4,
  "nbformat_minor": 0,
  "metadata": {
    "colab": {
      "name": "ZSL Blog Post.ipynb",
      "provenance": [],
      "collapsed_sections": []
    },
    "kernelspec": {
      "name": "python3",
      "display_name": "Python 3"
    }
  },
  "cells": [
    {
      "cell_type": "markdown",
      "metadata": {
        "id": "CoMVvIRtMXmY",
        "colab_type": "text"
      },
      "source": [
        "# Text classification in the BERT era without annotated data\n",
        "\n",
        "- comments: true\n",
        "\n"
      ]
    },
    {
      "cell_type": "markdown",
      "metadata": {
        "id": "aILhOF60WcIm",
        "colab_type": "text"
      },
      "source": [
        "Let's be honest, natural language processing is an enthrallingly exciting field these days. In recent years, the community has begun to figure out some pretty effective methods of learning from the enormous amounts of unlabeled data on the internet. The success of transfer learning from unsupervised models has allowed us to surpass virtually all existing benchmarks on downstream supervised learning tasks. As we continue to develop new model architectures and unsupervised learning objectives, \"state of the art\" continues to be a rapidly moving target for many tasks where large amounts of labeled data is available."
      ]
    },
    {
      "cell_type": "markdown",
      "metadata": {
        "id": "RWAWqChT1Cna",
        "colab_type": "text"
      },
      "source": [
        "In many real-world settings, however, annotated data is either scarse or  unavailable entirely. It seems almost tragic that we could have such success in unsupervised learning as a pre-training step but having focused so little on  alleviating our reliance on labaled data in downstream applications like sequence classification. Recent models like BERT, XLNet, and T5 have been shown to encode a tremendous amount of knowledge in their weights – it seems like we should be able to figure out a way to use that data in traditionally supervised tasks but without such a heavy reliance on task-specific annotated data."
      ]
    },
    {
      "cell_type": "markdown",
      "metadata": {
        "id": "aHhnr-zH4pUd",
        "colab_type": "text"
      },
      "source": [
        "Of course, *some* research has in fact been done in this area. **In this post, I will give an overview of a few techniques, both from published research and my own experiments, for using state-of-the-art NLP models for sequence classification in the absense of large annotated datasets.** Specifically, I will cover the following low-resource settings:\n",
        "\n",
        "1. I have no training data (extreme zero-shot learning)\n",
        "2. I have sufficient data for some labels, but not for others (traditional zero-shot learning)\n",
        "3. I have a little bit of annotated data (few-shot learning)\n",
        "4. I have no annotated data, but lots of unlabeled data (unsupervised classification)"
      ]
    },
    {
      "cell_type": "markdown",
      "metadata": {
        "id": "CUxjlQls8k1Q",
        "colab_type": "text"
      },
      "source": [
        "At the end of the post, I also link a few fantastic resources out there for NLP in low-resource languages. While I focus specifically on sequence-level classification, my hope is that some of these methods will be applicable to or inspire ideas for other tasks as well."
      ]
    },
    {
      "cell_type": "markdown",
      "metadata": {
        "id": "aLWIVE-ZP3DQ",
        "colab_type": "text"
      },
      "source": [
        "## Setting: I have no training data"
      ]
    },
    {
      "cell_type": "markdown",
      "metadata": {
        "id": "QhuEYWRJT3Yq",
        "colab_type": "text"
      },
      "source": [
        "#### Background: Natural Language Inference (NLI)\n",
        "\n",
        "Several of the methods described below use Natural Language Inference as pre-training step, so here is a quick review. NLI considers two sentences: a \"premise\" and a \"hypothesis\". The task is to determine whether the hypothesis is true (entailment) or false (contradiction) given the premise."
      ]
    },
    {
      "cell_type": "markdown",
      "metadata": {
        "id": "-tV6gVKP-nV0",
        "colab_type": "text"
      },
      "source": [
        "![example NLI sentences](https://joeddav.github.io/blog/images/zsl/nli-examples.png \"Examples from http://nlpprogress.com/english/natural_language_inference.html\")"
      ]
    },
    {
      "cell_type": "markdown",
      "metadata": {
        "id": "8P0XE7ek-pZZ",
        "colab_type": "text"
      },
      "source": [
        "When using transformer architectures like BERT, NLI datasets are typically modeled via _sequence-pair classification_. That is, we feed both the premise and the hypothesis through the model together as distinct segments and learn a classification head predicting one of `[contradiction, neutral, entailment]`."
      ]
    },
    {
      "cell_type": "markdown",
      "metadata": {
        "id": "AB9T-krfQ9Ip",
        "colab_type": "text"
      },
      "source": [
        "### NLI models as effective, ready-made zero-shot classifiers\n",
        "\n",
        "Recently, [Yin et al. (2019)](https://arxiv.org/abs/1909.00161) proposed a method which uses a pre-trained MNLI sequence-pair classifier as an out-of-the-box zero-shot text classifier that actually works pretty well.\n",
        "\n",
        "The idea is to take the sequence we're interested in labeling as the \"premise\" and to turn each candidate label into a \"hypothesis.\" If the NLI model predicts that the premise \"entails\" the hypothesis, we take the label to be true. This gives us a ready-made compatibility function that works reasonably well without any task-specific training. See the code snippet below to see how easily this can be done with 🤗 Transformers."
      ]
    },
    {
      "cell_type": "code",
      "metadata": {
        "id": "La_ga8KvSFYd",
        "colab_type": "code",
        "outputId": "274cdb48-a518-4cee-c031-e27947e9a7ed",
        "colab": {
          "base_uri": "https://localhost:8080/",
          "height": 35
        }
      },
      "source": [
        "# load model pretrained on MNLI\n",
        "from transformers import BartForSequenceClassification, BartTokenizer\n",
        "tokenizer = BartTokenizer.from_pretrained('bart-large-mnli')\n",
        "model = BartForSequenceClassification.from_pretrained('bart-large-mnli')\n",
        "\n",
        "# pose sequence as a NLI premise and label (politics) as a hypothesis\n",
        "premise = 'Who are you voting for in 2020?'\n",
        "hypothesis = 'This text is about politics.'\n",
        "\n",
        "# run through model pre-trained on MNLI\n",
        "input_ids = tokenizer.encode(premise, hypothesis, return_tensors='pt')\n",
        "logits = model(input_ids)[0]\n",
        "\n",
        "# we throw away \"neutral\" (dim 1) and take the probability of\n",
        "# \"entailment\" (2) as the probability of the label being true \n",
        "entail_contradiction_logits = logits[:,[0,2]]\n",
        "probs = entail_contradiction_logits.softmax(dim=1)\n",
        "true_prob = probs[:,1].item() * 100\n",
        "print(f'Probability that the label is true: {true_prob:0.2f}%')"
      ],
      "execution_count": 0,
      "outputs": [
        {
          "output_type": "stream",
          "text": [
            "Probability that the label is true: 99.04%\n"
          ],
          "name": "stdout"
        }
      ]
    },
    {
      "cell_type": "markdown",
      "metadata": {
        "id": "jwXSg464flMJ",
        "colab_type": "text"
      },
      "source": [
        "In the paper, the authors report an F1 of $37.9$ on Yahoo Answers using the smallest version of BERT fine-tuned only on the Multi-genre NLI (MNLI) corpus. By simply using the larger and more recent Bart model pre-trained on MNLI, we were able to bring this number up to $53.7$. For context, Yahoo Answers has 10 classes and [supervised models](https://paperswithcode.com/sota/text-classification-on-yahoo-answers) get an accuracy of just over $70\\%$."
      ]
    },
    {
      "cell_type": "markdown",
      "metadata": {
        "id": "TzyOq7Ic--h-",
        "colab_type": "text"
      },
      "source": [
        "Of course, this number can be improved when some data is available for training. In addition to the extreme fully unsupervised setting, the authors consider a setup which corresponds to the traditional _generalized zero-shot learning_ setting where only a subset of the dataset's labels are available during training. The model is then evaluated on all labels together, both seen and unseen, at test time."
      ]
    },
    {
      "cell_type": "markdown",
      "metadata": {
        "id": "CHCjFDWK_AcY",
        "colab_type": "text"
      },
      "source": [
        "See [our live demo here](http://35.208.71.201:8000/) to try it out for yourself! Enter a sequence you want to classify and any labels of interest and watch Bart do its magic in real time.\n",
        "\n",
        "![live demo](https://joeddav.github.io/blog/images/zsl/zsl-demo-screenshot.png)"
      ]
    },
    {
      "cell_type": "markdown",
      "metadata": {
        "id": "WyB_iKjvZKHS",
        "colab_type": "text"
      },
      "source": [
        "### A latent embedding approach\n",
        "\n",
        "A common approach to zero shot learning in the computer vision setting is to use an existing featurizer to embed an image and any possible class names into their corresponding latent representations. They can then take some training set and use only a subset of the available labels to learn a linear projection to align the image and label embeddings. At test time, this framework allows one to embed any label (seen or unseen) and any image into the same latent space and measure their distance."
      ]
    },
    {
      "cell_type": "markdown",
      "metadata": {
        "id": "98k5EbUuCP49",
        "colab_type": "text"
      },
      "source": [
        "![latent embeddings of images and labels](https://joeddav.github.io/blog/images/zsl/socher.png \"t-SNE visualization of projected image & class embeddings from Socher et al.\")"
      ]
    },
    {
      "cell_type": "markdown",
      "metadata": {
        "id": "xCWrvjkgDOsj",
        "colab_type": "text"
      },
      "source": [
        "In the text domain, we have the advantage that we can use a single model to embed both the sequences to classify and the class names into the same space, eliminating the need for the data-hungry alignment step. This is not a new technique – researchers and practitioners have used pooled word vectors in similar ways for some time. But recently we have seen a dramatic increase in the quality of sentence embedding models. We therefore experiment with Sentence-BERT, a recent technique which fine-tunes pooled sequence representations for increased semantic richness, as a method for obtaining sequence and label embeddings."
      ]
    },
    {
      "cell_type": "markdown",
      "metadata": {
        "id": "xtjEN4srCPP3",
        "colab_type": "text"
      },
      "source": [
        "To formalize this, suppose we have a sequence embedding model $\\Phi$ and set of possible class names $C$. We classify a given sequence $x$ according to,\n",
        "\n",
        "$$\n",
        "\\hat{c} = \\arg\\max_{c \\in C} \\cos(\\Phi(x), \\Phi(c))\n",
        "$$\n",
        "\n",
        "where $\\cos$ is the cosine similarity. Here's an example code snippet showing how this can be done using Sentence-BERT as our embedding model $\\Phi$:"
      ]
    },
    {
      "cell_type": "code",
      "metadata": {
        "id": "S6T6rRDBuKkh",
        "colab_type": "code",
        "outputId": "1fc25a86-2849-434d-f5b9-08d7c7b96e4b",
        "colab": {
          "base_uri": "https://localhost:8080/",
          "height": 69
        }
      },
      "source": [
        "# load the sentence-bert model from the HuggingFace model hub\n",
        "from transformers import AutoTokenizer, AutoModel\n",
        "from torch.nn import functional as F\n",
        "tokenizer = AutoTokenizer.from_pretrained(\"deepset/sentence_bert\")\n",
        "model = AutoModel.from_pretrained(\"deepset/sentence_bert\")\n",
        "\n",
        "sentence = 'Who are you voting for in 2020?'\n",
        "labels = ['business', 'art & culture', 'politics']\n",
        "\n",
        "# run inputs through model and mean-pool over the sequence\n",
        "# dimension to get sequence-level representations\n",
        "inputs = tokenizer.batch_encode_plus([sentence] + labels,\n",
        "                                     return_tensors='pt',\n",
        "                                     pad_to_max_length=True)\n",
        "input_ids = inputs['input_ids']\n",
        "attention_mask = inputs['attention_mask']\n",
        "output = model(input_ids, attention_mask=attention_mask)[0]\n",
        "sentence_rep = output[:1].mean(dim=1)\n",
        "label_reps = output[1:].mean(dim=1)\n",
        "\n",
        "# now find the labels with the highest cosine similarities to\n",
        "# the sentence\n",
        "similarities = F.cosine_similarity(sentence_rep, label_reps)\n",
        "closest = similarities.argsort(descending=True)\n",
        "for ind in closest:\n",
        "    print(f'label: {labels[ind]} \\t similarity: {similarities[ind]}')"
      ],
      "execution_count": 70,
      "outputs": [
        {
          "output_type": "stream",
          "text": [
            "label: politics \t similarity: 0.21561521291732788\n",
            "label: business \t similarity: 0.004524140153080225\n",
            "label: art & culture \t similarity: -0.027396833524107933\n"
          ],
          "name": "stdout"
        }
      ]
    },
    {
      "cell_type": "markdown",
      "metadata": {
        "id": "cR-X1GlDttZi",
        "colab_type": "text"
      },
      "source": [
        "One downside to this method is that Sentence-BERT is designed to learn effective sentence-level, not single- or multi-word representations like our class names. It is therefore reasonable to suppose that our label embeddings may not be as semantically salient as popular word-level embedding methods (i.e. word2vec). If we were to use word vectors as our label representations, however, we would need annotated data to learn an alignment between the S-BERT sequence representations and the word2vec label representations."
      ]
    },
    {
      "cell_type": "markdown",
      "metadata": {
        "id": "pMKj8D1c_MC3",
        "colab_type": "text"
      },
      "source": [
        "We addressed this issue with the following procedure:\n",
        "\n",
        "1. Take the top $K$ most frequent words $V$ in the vocabulary of a word2vec model\n",
        "2. Obtain embeddings for each word using word2vec, $\\Phi_{\\text{word}}(V)$\n",
        "3. Obtain embeddings for each word using S-BERT, $\\Phi_{\\text{sent}}(V)$\n",
        "4. Learn a linear projection $W$ with L2 regularization from $\\Phi_{\\text{sent}}(V)$ to $\\Phi_{\\text{word}}(V)$"
      ]
    },
    {
      "cell_type": "markdown",
      "metadata": {
        "id": "CSlzisyd_NDi",
        "colab_type": "text"
      },
      "source": [
        "Now we use $W$ in our classification as an additional transformation to our latent space for both sequence and label embeddings:\n",
        "\n",
        "$$\n",
        "\\hat{c} = \\arg\\max_{c \\in C} \\cos(\\Phi_{\\text{sent}}(x)W, \\Phi_{\\text{sent}}(c)W)\n",
        "$$\n",
        "\n",
        "This procedure can be thought of as a kind of dimensionality reduction. By learning a regularized projection from the S-BERT embeddings to word vectors, the label and sequence representations become better aligned with one another while maintining the superior performance of S-BERT compared to pooled word vectors. Importantly, this procedure does not require any additional data beyond a word2vec mapping sorted by word frequency.\n",
        "\n",
        "On Yahoo Answers, we find an F1 of $46.9$ and $31.2$ with and without this projection step, respectively."
      ]
    },
    {
      "cell_type": "markdown",
      "metadata": {
        "id": "a9KRVNU9r0XB",
        "colab_type": "text"
      },
      "source": [
        "## Setting: Low-Resource Languages"
      ]
    },
    {
      "cell_type": "markdown",
      "metadata": {
        "id": "YChK2nuVr28X",
        "colab_type": "text"
      },
      "source": [
        "Low-resource and cross-lingual learning is a huge research area in NLP right now and much has been written about it, so I'll just link a few great resources:\n",
        "\n",
        "- Graham Neubig's recently released [Low Resource NLP Bootcamp](https://github.com/neubig/lowresource-nlp-bootcamp-2020) is a GitHub repo containing 8 of lectures (plus exercises) focused on NLP in data-scarse languages. \n",
        "\n",
        "- Sebastian Ruder's blog post, [\"A survey of cross-lingual word embedding models\"](https://ruder.io/cross-lingual-embeddings/)\n",
        "\n"
      ]
    }
  ]
}